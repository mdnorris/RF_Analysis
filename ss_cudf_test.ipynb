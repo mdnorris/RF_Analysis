{
 "cells": [
  {
   "cell_type": "code",
   "execution_count": 1,
   "metadata": {
    "collapsed": true,
    "pycharm": {
     "name": "#%%\n",
     "is_executing": false
    }
   },
   "outputs": [],
   "source": [
    "# use os functions to set path\n",
    "# rename site variables to mimic sample data?\n",
    "\n",
    "import os\n",
    "import pandas as pd\n",
    "import numpy as np\n",
    "import timeit\n",
    "import time\n",
    "import cudf as cf\n",
    "import dask_cudf as dc\n",
    "import tracemalloc\n",
    "\n",
    "date_time = time.strftime('%Y%m%d-%H%M')\n"
   ]
  },
  {
   "cell_type": "code",
   "execution_count": 2,
   "outputs": [
    {
     "name": "stdout",
     "text": [
      "2.33 s ± 4.24 ms per loop (mean ± std. dev. of 7 runs, 1 loop each)\n",
      "3.7 s ± 9.28 ms per loop (mean ± std. dev. of 7 runs, 1 loop each)\n",
      "378 ms ± 6.2 ms per loop (mean ± std. dev. of 7 runs, 1 loop each)\n",
      "546 ms ± 4.42 ms per loop (mean ± std. dev. of 7 runs, 1 loop each)\n"
     ],
     "output_type": "stream"
    }
   ],
   "source": [
    "%timeit sites = pd.read_csv('ml_cm_sites_2020_01.csv', delimiter=',')\n",
    "%timeit hr_sites = pd.read_csv('ml_cm_hourly_sites_2020_01.csv', delimiter=',')\n",
    "\n",
    "%timeit sites = cf.read_csv('ml_cm_sites_2020_01.csv', delimiter=',')\n",
    "%timeit hr_sites = cf.read_csv('ml_cm_hourly_sites_2020_01.csv', delimiter=',')\n",
    "\n",
    "# sites = pd.read_csv('sites.csv', delimiter=',')\n",
    "# hr_sites = pd.read_csv('hourly_sites.csv', delimiter=',')\n",
    "\n",
    "# sites = cf.read_csv('sites.csv', delimiter=',')\n",
    "# hr_sites = cf.read_csv('hourly_sites.csv', delimiter=',')\n",
    "\n",
    "sites = cf.read_csv('ml_cm_sites_2020_01.csv', delimiter=',')\n",
    "hr_sites = cf.read_csv('hourly_sites.csv', delimiter=',')\n",
    "\n",
    "npv_values = pd.read_csv('npv.csv', delimiter=',')\n",
    "lte_params = pd.read_csv('lte_assumptions.csv', delimiter=',')\n",
    "\n",
    "# init_sites = sites.drop(['Type', 'Morphology'], axis=1)\n",
    "# init_hr_sites = hr_sites\n",
    "\n",
    "npv_values.columns = ['non', 'off_du', 'off_u', 'off_s', 'on_du', 'on_u',\n",
    "                      'on_s', 'roe_du', 'roe_u', 'roe_s']\n",
    "\n",
    "st_date = pd.date_range(start=pd.Timestamp('2019-01-01'), periods=11, freq='AS')\n",
    "\n",
    "disc_rt = .15\n",
    "other = 60.0\n",
    "sites['rx_sensitivity_db'] = -93.3539524119117\n",
    "\n",
    "\n"
   ],
   "metadata": {
    "collapsed": false,
    "pycharm": {
     "name": "#%%\n",
     "is_executing": false
    }
   }
  },
  {
   "cell_type": "code",
   "execution_count": 3,
   "outputs": [],
   "source": [
    "# functions\n",
    "\n",
    "\n",
    "def morph(type, morph):\n",
    "    if type == 'Off-Strand' and morph == 'Dense Urban':\n",
    "        morph_code = 1\n",
    "    elif type == 'Off-Strand' and morph == 'Urban':\n",
    "        morph_code = 2\n",
    "    elif type == 'Off-Strand' and morph == 'Suburban':\n",
    "        morph_code = 3\n",
    "    elif type == 'On-Strand' and morph == 'Dense Urban':\n",
    "        morph_code = 4\n",
    "    elif type == 'On-Strand' and morph == 'Urban':\n",
    "        morph_code = 5\n",
    "    elif type == 'On-Strand' and morph == 'Suburban':\n",
    "        morph_code = 6\n",
    "    elif type == 'ROE Building' and morph == 'Dense Urban':\n",
    "        morph_code = 7\n",
    "    elif type == 'ROE Building' and morph == 'Urban':\n",
    "        morph_code = 8\n",
    "    elif type == 'ROE Building' and morph == 'Suburban':\n",
    "        morph_code = 9\n",
    "    else:\n",
    "        print('error')\n",
    "    return morph_code\n",
    "\n",
    "\n",
    "def fin_arrays(code):\n",
    "    cpx = np.empty([11, 1])\n",
    "    opx = np.empty([11, 1])\n",
    "    growth = np.empty([11, 1])\n",
    "    mvno = np.empty([11, 1])\n",
    "    if code == 1:\n",
    "        npv = npv_values.loc[:, 'off_du']\n",
    "    elif code == 2:\n",
    "        npv = npv_values.loc[:, 'off_u']\n",
    "    elif code == 3:\n",
    "        npv = npv_values.loc[:, 'off_s']\n",
    "    elif code == 4:\n",
    "        npv = npv_values.loc[:, 'on_du']\n",
    "    elif code == 5:\n",
    "        npv = npv_values.loc[:, 'on_u']\n",
    "    elif code == 6:\n",
    "        npv = npv_values.loc[:, 'on_s']\n",
    "    elif code == 7:\n",
    "        npv = npv_values.loc[:, 'roe_du']\n",
    "    elif code == 8:\n",
    "        npv = npv_values.loc[:, 'roe_u']\n",
    "    elif code == 9:\n",
    "        npv = npv_values.loc[:, 'roe_s']\n",
    "    else:\n",
    "        print('error')\n",
    "    penet_rate = np.full((11, 1), float(npv[62]))\n",
    "    for i in range(11):\n",
    "        cpx[i] = float(npv[i + 3])\n",
    "    for i in range(11):\n",
    "        opx[i] = float(npv[i + 14])\n",
    "    for i in range(11):\n",
    "        growth[i] = float(npv[i + 40])\n",
    "    for i in range(11):\n",
    "        mvno[i] = float(npv[i + 51])\n",
    "    array = np.hstack((cpx, opx, growth, mvno, penet_rate))\n",
    "    return array\n",
    "\n",
    "\n",
    "def morph_array(code):\n",
    "    if code == 1:\n",
    "        return off_du\n",
    "    elif code == 2:\n",
    "        return off_u\n",
    "    elif code == 3:\n",
    "        return off_s\n",
    "    elif code == 4:\n",
    "        return on_du\n",
    "    elif code == 5:\n",
    "        return on_u\n",
    "    elif code == 6:\n",
    "        return on_s\n",
    "    elif code == 7:\n",
    "        return roe_du\n",
    "    elif code == 8:\n",
    "        return roe_u\n",
    "    elif code == 9:\n",
    "        return roe_s\n",
    "    else:\n",
    "        print('error')\n",
    "\n",
    "\n",
    "day_diff = 0.0\n",
    "cell_split = 2.0\n",
    "\n",
    "\n",
    "def xnpv(gbs, mo_cap, code):\n",
    "    # slice 0 is cpx, 1 is opx, 2 is growth, 3 is mvno, 4 is penet_rate\n",
    "    array = morph_array(code)\n",
    "    flag = 0\n",
    "    a = 0\n",
    "    for i in range(11):\n",
    "        if (gbs * array[i][4] * (array[i][2]) * 12) < (\n",
    "                cell_split * mo_cap * 12):\n",
    "            if (gbs * array[i][4] * (array[i][2]) * 12) < (mo_cap * 12):\n",
    "                value[i] = gbs * array[i][4] * 12 * array[i][3] * array[i][2] - array[i][1] - other\n",
    "            else:\n",
    "                value[i] = gbs * array[i][4] * 12 * array[i][3] * array[i][2] - (2 * array[i][1]) - other\n",
    "                if flag == 0:\n",
    "                    a = i\n",
    "                    flag = 1\n",
    "        else:\n",
    "            value[i] = gbs * array[i][4] * 12 * array[i][3] * array[i][2] - (2 * array[i][1]) - other\n",
    "    date_0 = st_date[0]\n",
    "    value[a] = value[a] - array[a][0]\n",
    "    return int(sum([value_i / ((1.0 + disc_rt) **\n",
    "                               (((date_i - date_0).days - day_diff) / 365.0))\n",
    "                    for value_i, date_i in zip(value, st_date)]))\n",
    "\n"
   ],
   "metadata": {
    "collapsed": false,
    "pycharm": {
     "name": "#%%\n",
     "is_executing": false
    }
   }
  },
  {
   "cell_type": "code",
   "execution_count": 4,
   "outputs": [],
   "source": [
    "off_du = fin_arrays(1)\n",
    "off_u = fin_arrays(2)\n",
    "off_s = fin_arrays(3)\n",
    "on_du = fin_arrays(4)\n",
    "on_u = fin_arrays(5)\n",
    "on_s = fin_arrays(6)\n",
    "roe_du = fin_arrays(7)\n",
    "roe_u = fin_arrays(8)\n",
    "roe_s = fin_arrays(9)\n",
    "value = np.empty([11, 1])\n",
    "\n",
    "# sites['rx_signal_strength_db'] = 37.0 - sites['path_loss_umi_db']\n",
    "sites['rx_signal_strength_db'] = 37.0 - sites['path_loss_db']\n",
    "sites['sinr'] = sites['rx_signal_strength_db'] - sites['rx_sensitivity_db']\n",
    "sites['sinr'] = sites['sinr'].round(0)\n",
    "\n",
    "# sites['rx_signal_strength_mw'] = ((10 ** ((37.0 -\n",
    "#                                            sites['path_loss_umi_db'])\n",
    "#                                           / 10) / 1000.000000000))\n",
    "# bin_sinr = sites[['GridName', 'sinr', 'rx_signal_strength_mw',\n",
    "#                   'rx_signal_strength_db', 'rx_sensitivity_db']]\n",
    "\n",
    "\n",
    "sites['rx_signal_strength_mw'] = ((10 ** ((37.0 -\n",
    "                                           sites['path_loss_db'])\n",
    "                                          / 10) / 1000.000000000))\n",
    "# bin_sinr = sites[['GridName', 'sinr', 'rx_signal_strength_mw',\n",
    "#                   'rx_signal_strength_db', 'rx_sensitivity_db']]\n",
    "\n",
    "sites = sites[sites.sinr >= -7.0]"
   ],
   "metadata": {
    "collapsed": false,
    "pycharm": {
     "name": "#%%\n",
     "is_executing": false
    }
   }
  },
  {
   "cell_type": "code",
   "execution_count": 5,
   "outputs": [
    {
     "name": "stdout",
     "text": [
      "11.2 ms ± 36.1 µs per loop (mean ± std. dev. of 7 runs, 100 loops each)\n",
      "198 µs ± 3.74 µs per loop (mean ± std. dev. of 7 runs, 10000 loops each)\n",
      "122 µs ± 644 ns per loop (mean ± std. dev. of 7 runs, 10000 loops each)\n",
      "1.42 ms ± 2.23 µs per loop (mean ± std. dev. of 7 runs, 1000 loops each)\n",
      "54.9 ms ± 1.3 ms per loop (mean ± std. dev. of 7 runs, 1 loop each)\n",
      "57.2 ms ± 13.1 ms per loop (mean ± std. dev. of 7 runs, 1 loop each)\n"
     ],
     "output_type": "stream"
    }
   ],
   "source": [
    "# %timeit \n",
    "\n",
    "%timeit test1 = sites.groupby('asset_id').bin_usage_gb.sum().to_pandas()\n",
    "test1 = sites.groupby('asset_id').bin_usage_gb.sum().to_pandas()\n",
    "%timeit test2 = test1.to_frame()\n",
    "test2 = test1.to_frame()\n",
    "%timeit test2['asset_id'] = test1.index\n",
    "test2['asset_id'] = test1.index\n",
    "%timeit test1 = cf.from_pandas(test2)\n",
    "test3 = cf.from_pandas(test2)\n",
    "%timeit test_merge1 = sites.merge(test3, on=['asset_id'], how='left')\n",
    "\n",
    "sites = sites.to_pandas()\n",
    "\n",
    "%timeit sites['gb_offload'] = sites.groupby('asset_id')['bin_usage_gb'].transform(sum)\n",
    "\n"
   ],
   "metadata": {
    "collapsed": false,
    "pycharm": {
     "name": "#%%\n",
     "is_executing": false
    }
   }
  }
 ],
 "metadata": {
  "kernelspec": {
   "name": "pycharm-eb28a886",
   "language": "python",
   "display_name": "PyCharm (site_selection)"
  },
  "language_info": {
   "codemirror_mode": {
    "name": "ipython",
    "version": 2
   },
   "file_extension": ".py",
   "mimetype": "text/x-python",
   "name": "python",
   "nbconvert_exporter": "python",
   "pygments_lexer": "ipython2",
   "version": "2.7.6"
  },
  "pycharm": {
   "stem_cell": {
    "cell_type": "raw",
    "source": [],
    "metadata": {
     "collapsed": false
    }
   }
  }
 },
 "nbformat": 4,
 "nbformat_minor": 0
}